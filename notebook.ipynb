{
 "cells": [
  {
   "cell_type": "code",
   "execution_count": null,
   "metadata": {},
   "outputs": [
    {
     "name": "stdout",
     "output_type": "stream",
     "text": [
      "[youtube] Extracting URL: https://www.youtube.com/watch?v=jwBpu-n8_F8\n",
      "[youtube] jwBpu-n8_F8: Downloading webpage\n",
      "[youtube] jwBpu-n8_F8: Downloading tv client config\n",
      "[youtube] jwBpu-n8_F8: Downloading player e63b9241-main\n",
      "[youtube] jwBpu-n8_F8: Downloading tv player API JSON\n",
      "[youtube] jwBpu-n8_F8: Downloading ios player API JSON\n",
      "[youtube] jwBpu-n8_F8: Downloading m3u8 information\n",
      "[info] jwBpu-n8_F8: Downloading 1 format(s): 251\n",
      "[download] Destination: ./files/【Kroniicle Animation】 Kanpai 🍻.webm\n",
      "[download] 100% of    1.64MiB in 00:00:00 at 12.22MiB/s  \n",
      "[ExtractAudio] Destination: ./files/【Kroniicle Animation】 Kanpai 🍻.mp3\n",
      "Deleting original file ./files/【Kroniicle Animation】 Kanpai 🍻.webm (pass -k to keep)\n"
     ]
    }
   ],
   "source": [
    "import subprocess\n",
    "from pydub import AudioSegment\n",
    "from glob import glob\n",
    "import math\n",
    "from openai import OpenAI\n",
    "\n",
    "client = OpenAI()\n",
    "\n",
    "\n",
    "def download_video(video_path, url):\n",
    "    command = [\n",
    "        \"yt-dlp\",\n",
    "        \"-x\",\n",
    "        \"--audio-format\",\n",
    "        \"mp3\",\n",
    "        \"-o\",\n",
    "        video_path,\n",
    "        url,\n",
    "    ]\n",
    "    subprocess.run(command)\n",
    "\n",
    "\n",
    "def extract_audio_from_video(video_path, audio_path):\n",
    "    command = [\"ffmpeg\", \"-i\", video_path, \"-vn\", audio_path]\n",
    "    subprocess.run(command)\n",
    "\n",
    "\n",
    "def cut_audio_in_chunks(audio_path, chunk_size, chunks_folder):\n",
    "    track = AudioSegment.from_mp3(audio_path)\n",
    "    chunk_len = chunk_size * 60 * 1000\n",
    "    chunks = math.ceil(len(track) / chunk_len)\n",
    "\n",
    "    for i in range(chunks):\n",
    "        start_time = i * chunk_len\n",
    "        end_time = (i + 1) * chunk_len\n",
    "        chunk = track[start_time:end_time]\n",
    "        chunk.export(f\"{chunks_folder}/chunk_{i}.mp3\", format=\"mp3\")\n",
    "\n",
    "\n",
    "def transcribe_chunks(chunk_folder, destination):\n",
    "    files = glob(f\"{chunk_folder}/*.mp3\")\n",
    "    for file in files:\n",
    "        with open(file, \"rb\") as audio_file, open(destination, \"a\") as text_file:\n",
    "            transcript = client.audio.transcriptions.create(\n",
    "                \"whisper-1\", audio_file, language=\"en\"\n",
    "            )\n",
    "            text_file.write(transcript.text)\n",
    "\n",
    "\n",
    "# transcribe_chunks(\"./files/chunks\", \"./files/transcript.txt\")"
   ]
  }
 ],
 "metadata": {
  "kernelspec": {
   "display_name": "env",
   "language": "python",
   "name": "python3"
  },
  "language_info": {
   "codemirror_mode": {
    "name": "ipython",
    "version": 3
   },
   "file_extension": ".py",
   "mimetype": "text/x-python",
   "name": "python",
   "nbconvert_exporter": "python",
   "pygments_lexer": "ipython3",
   "version": "3.12.2"
  }
 },
 "nbformat": 4,
 "nbformat_minor": 2
}
